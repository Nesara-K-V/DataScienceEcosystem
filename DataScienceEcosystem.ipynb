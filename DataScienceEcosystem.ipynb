{
 "cells": [
  {
   "cell_type": "markdown",
   "id": "5ef20aa8",
   "metadata": {},
   "source": [
    "# Data Science Tools and Ecosystem"
   ]
  },
  {
   "cell_type": "markdown",
   "id": "a2beeb1a",
   "metadata": {},
   "source": [
    "In this notebook,Data science tools and Ecosystem are summarised"
   ]
  },
  {
   "cell_type": "markdown",
   "id": "00d3b504",
   "metadata": {},
   "source": [
    "Objectives:\n",
    ">list popular langauges used in Data Science\n",
    ">list the libaries used by Data Scientist\n",
    ">notedown few Data Science Tools"
   ]
  },
  {
   "cell_type": "markdown",
   "id": "026782e2",
   "metadata": {},
   "source": [
    "Some of the popular languages that Data Science use are:\n",
    "1.Python\n",
    "2.R\n",
    "3.SQL"
   ]
  },
  {
   "cell_type": "markdown",
   "id": "97ee1a1c",
   "metadata": {},
   "source": [
    "Some of the commonly used libraries used by Data Scientists include:\n",
    "1.Numpy\n",
    "2.Panda\n",
    "3.Matplotlib"
   ]
  },
  {
   "cell_type": "markdown",
   "id": "f39aab60",
   "metadata": {},
   "source": [
    "| Data Science Tools  |\n",
    "|---------------------|\n",
    "| Jupyter Notebooks   |\n",
    "| RStudio |\n",
    "| VS code in Python |"
   ]
  },
  {
   "cell_type": "markdown",
   "id": "f4791b29",
   "metadata": {},
   "source": [
    "### Below are a few examples of evaluating arithmetic expressions in Python"
   ]
  },
  {
   "cell_type": "code",
   "execution_count": 1,
   "id": "0b9bbe17",
   "metadata": {},
   "outputs": [
    {
     "data": {
      "text/plain": [
       "17"
      ]
     },
     "execution_count": 1,
     "metadata": {},
     "output_type": "execute_result"
    }
   ],
   "source": [
    "(3*4)+5"
   ]
  },
  {
   "cell_type": "code",
   "execution_count": 2,
   "id": "4afa094e",
   "metadata": {},
   "outputs": [
    {
     "name": "stdout",
     "output_type": "stream",
     "text": [
      "3.3333333333333335\n"
     ]
    }
   ],
   "source": [
    "#converting minutes into hours by dividing it by 60\n",
    "h=200/60\n",
    "print(h)"
   ]
  },
  {
   "cell_type": "markdown",
   "id": "fa1b05a8",
   "metadata": {},
   "source": [
    "## Author\n",
    "NESARA"
   ]
  }
 ],
 "metadata": {
  "kernelspec": {
   "display_name": "Python 3 (ipykernel)",
   "language": "python",
   "name": "python3"
  },
  "language_info": {
   "codemirror_mode": {
    "name": "ipython",
    "version": 3
   },
   "file_extension": ".py",
   "mimetype": "text/x-python",
   "name": "python",
   "nbconvert_exporter": "python",
   "pygments_lexer": "ipython3",
   "version": "3.11.5"
  }
 },
 "nbformat": 4,
 "nbformat_minor": 5
}
